{
  "nbformat": 4,
  "nbformat_minor": 0,
  "metadata": {
    "colab": {
      "name": "LR_urdu_mrc.ipynb",
      "provenance": [],
      "collapsed_sections": [],
      "include_colab_link": true
    },
    "kernelspec": {
      "name": "python3",
      "display_name": "Python 3"
    },
    "widgets": {
      "application/vnd.jupyter.widget-state+json": {
        "3f616c0f5bda4009a80f9f0a70e5fb9c": {
          "model_module": "@jupyter-widgets/controls",
          "model_name": "HBoxModel",
          "state": {
            "_view_name": "HBoxView",
            "_dom_classes": [],
            "_model_name": "HBoxModel",
            "_view_module": "@jupyter-widgets/controls",
            "_model_module_version": "1.5.0",
            "_view_count": null,
            "_view_module_version": "1.5.0",
            "box_style": "",
            "layout": "IPY_MODEL_755c264122b24a9f88ae092185d3c488",
            "_model_module": "@jupyter-widgets/controls",
            "children": [
              "IPY_MODEL_97862457ac9d4dd299fc88c8c4fee999",
              "IPY_MODEL_f1f8d09c133542068983d89e05161df8"
            ]
          }
        },
        "755c264122b24a9f88ae092185d3c488": {
          "model_module": "@jupyter-widgets/base",
          "model_name": "LayoutModel",
          "state": {
            "_view_name": "LayoutView",
            "grid_template_rows": null,
            "right": null,
            "justify_content": null,
            "_view_module": "@jupyter-widgets/base",
            "overflow": null,
            "_model_module_version": "1.2.0",
            "_view_count": null,
            "flex_flow": null,
            "width": null,
            "min_width": null,
            "border": null,
            "align_items": null,
            "bottom": null,
            "_model_module": "@jupyter-widgets/base",
            "top": null,
            "grid_column": null,
            "overflow_y": null,
            "overflow_x": null,
            "grid_auto_flow": null,
            "grid_area": null,
            "grid_template_columns": null,
            "flex": null,
            "_model_name": "LayoutModel",
            "justify_items": null,
            "grid_row": null,
            "max_height": null,
            "align_content": null,
            "visibility": null,
            "align_self": null,
            "height": null,
            "min_height": null,
            "padding": null,
            "grid_auto_rows": null,
            "grid_gap": null,
            "max_width": null,
            "order": null,
            "_view_module_version": "1.2.0",
            "grid_template_areas": null,
            "object_position": null,
            "object_fit": null,
            "grid_auto_columns": null,
            "margin": null,
            "display": null,
            "left": null
          }
        },
        "97862457ac9d4dd299fc88c8c4fee999": {
          "model_module": "@jupyter-widgets/controls",
          "model_name": "FloatProgressModel",
          "state": {
            "_view_name": "ProgressView",
            "style": "IPY_MODEL_dabae2178102404a8fed8675a3ed1e7e",
            "_dom_classes": [],
            "description": " 13%",
            "_model_name": "FloatProgressModel",
            "bar_style": "",
            "max": 76241,
            "_view_module": "@jupyter-widgets/controls",
            "_model_module_version": "1.5.0",
            "value": 10062,
            "_view_count": null,
            "_view_module_version": "1.5.0",
            "orientation": "horizontal",
            "min": 0,
            "description_tooltip": null,
            "_model_module": "@jupyter-widgets/controls",
            "layout": "IPY_MODEL_f1c06b07184941ebafe324a5c0674ec5"
          }
        },
        "f1f8d09c133542068983d89e05161df8": {
          "model_module": "@jupyter-widgets/controls",
          "model_name": "HTMLModel",
          "state": {
            "_view_name": "HTMLView",
            "style": "IPY_MODEL_71783dd17e4d48498e89d6e6eb894b29",
            "_dom_classes": [],
            "description": "",
            "_model_name": "HTMLModel",
            "placeholder": "​",
            "_view_module": "@jupyter-widgets/controls",
            "_model_module_version": "1.5.0",
            "value": " 10061/76241 [2:18:32&lt;13:01:11,  1.41it/s]",
            "_view_count": null,
            "_view_module_version": "1.5.0",
            "description_tooltip": null,
            "_model_module": "@jupyter-widgets/controls",
            "layout": "IPY_MODEL_edb082480c1b4a97a743ee9b31d2754f"
          }
        },
        "dabae2178102404a8fed8675a3ed1e7e": {
          "model_module": "@jupyter-widgets/controls",
          "model_name": "ProgressStyleModel",
          "state": {
            "_view_name": "StyleView",
            "_model_name": "ProgressStyleModel",
            "description_width": "initial",
            "_view_module": "@jupyter-widgets/base",
            "_model_module_version": "1.5.0",
            "_view_count": null,
            "_view_module_version": "1.2.0",
            "bar_color": null,
            "_model_module": "@jupyter-widgets/controls"
          }
        },
        "f1c06b07184941ebafe324a5c0674ec5": {
          "model_module": "@jupyter-widgets/base",
          "model_name": "LayoutModel",
          "state": {
            "_view_name": "LayoutView",
            "grid_template_rows": null,
            "right": null,
            "justify_content": null,
            "_view_module": "@jupyter-widgets/base",
            "overflow": null,
            "_model_module_version": "1.2.0",
            "_view_count": null,
            "flex_flow": null,
            "width": null,
            "min_width": null,
            "border": null,
            "align_items": null,
            "bottom": null,
            "_model_module": "@jupyter-widgets/base",
            "top": null,
            "grid_column": null,
            "overflow_y": null,
            "overflow_x": null,
            "grid_auto_flow": null,
            "grid_area": null,
            "grid_template_columns": null,
            "flex": null,
            "_model_name": "LayoutModel",
            "justify_items": null,
            "grid_row": null,
            "max_height": null,
            "align_content": null,
            "visibility": null,
            "align_self": null,
            "height": null,
            "min_height": null,
            "padding": null,
            "grid_auto_rows": null,
            "grid_gap": null,
            "max_width": null,
            "order": null,
            "_view_module_version": "1.2.0",
            "grid_template_areas": null,
            "object_position": null,
            "object_fit": null,
            "grid_auto_columns": null,
            "margin": null,
            "display": null,
            "left": null
          }
        },
        "71783dd17e4d48498e89d6e6eb894b29": {
          "model_module": "@jupyter-widgets/controls",
          "model_name": "DescriptionStyleModel",
          "state": {
            "_view_name": "StyleView",
            "_model_name": "DescriptionStyleModel",
            "description_width": "",
            "_view_module": "@jupyter-widgets/base",
            "_model_module_version": "1.5.0",
            "_view_count": null,
            "_view_module_version": "1.2.0",
            "_model_module": "@jupyter-widgets/controls"
          }
        },
        "edb082480c1b4a97a743ee9b31d2754f": {
          "model_module": "@jupyter-widgets/base",
          "model_name": "LayoutModel",
          "state": {
            "_view_name": "LayoutView",
            "grid_template_rows": null,
            "right": null,
            "justify_content": null,
            "_view_module": "@jupyter-widgets/base",
            "overflow": null,
            "_model_module_version": "1.2.0",
            "_view_count": null,
            "flex_flow": null,
            "width": null,
            "min_width": null,
            "border": null,
            "align_items": null,
            "bottom": null,
            "_model_module": "@jupyter-widgets/base",
            "top": null,
            "grid_column": null,
            "overflow_y": null,
            "overflow_x": null,
            "grid_auto_flow": null,
            "grid_area": null,
            "grid_template_columns": null,
            "flex": null,
            "_model_name": "LayoutModel",
            "justify_items": null,
            "grid_row": null,
            "max_height": null,
            "align_content": null,
            "visibility": null,
            "align_self": null,
            "height": null,
            "min_height": null,
            "padding": null,
            "grid_auto_rows": null,
            "grid_gap": null,
            "max_width": null,
            "order": null,
            "_view_module_version": "1.2.0",
            "grid_template_areas": null,
            "object_position": null,
            "object_fit": null,
            "grid_auto_columns": null,
            "margin": null,
            "display": null,
            "left": null
          }
        }
      }
    },
    "accelerator": "TPU"
  },
  "cells": [
    {
      "cell_type": "markdown",
      "metadata": {
        "id": "view-in-github",
        "colab_type": "text"
      },
      "source": [
        "<a href=\"https://colab.research.google.com/github/pathansaira7/Urdu/blob/master/LR_urdu_mrc.ipynb\" target=\"_parent\"><img src=\"https://colab.research.google.com/assets/colab-badge.svg\" alt=\"Open In Colab\"/></a>"
      ]
    },
    {
      "cell_type": "code",
      "metadata": {
        "id": "2dirbX-cRNgn",
        "colab_type": "code",
        "colab": {
          "base_uri": "https://localhost:8080/",
          "height": 662
        },
        "outputId": "f0abdd4c-bf3c-4346-f97b-e818b668f37e"
      },
      "source": [
        "!pip install stanza\n",
        "import networkx as nx\n",
        "import matplotlib.pyplot as plt\n",
        "import networkx as nx\n",
        "import stanza\n",
        "import matplotlib.pyplot as plt\n",
        "import time\n",
        "import pandas as pd\n",
        "import numpy as np\n",
        "\n",
        "stanza.download('ur') # download Urdu model\n",
        "ur_nlp = stanza.Pipeline(lang='ur', processors='tokenize,mwt,pos,lemma,depparse')"
      ],
      "execution_count": null,
      "outputs": [
        {
          "output_type": "stream",
          "text": [
            "Collecting stanza\n",
            "\u001b[?25l  Downloading https://files.pythonhosted.org/packages/27/9c/60689521a971a57dd02d2925105efedefa9dccd76c9a0b92566683d43e89/stanza-1.0.1-py3-none-any.whl (193kB)\n",
            "\r\u001b[K     |█▊                              | 10kB 17.1MB/s eta 0:00:01\r\u001b[K     |███▍                            | 20kB 1.8MB/s eta 0:00:01\r\u001b[K     |█████                           | 30kB 2.2MB/s eta 0:00:01\r\u001b[K     |██████▉                         | 40kB 2.6MB/s eta 0:00:01\r\u001b[K     |████████▌                       | 51kB 2.0MB/s eta 0:00:01\r\u001b[K     |██████████▏                     | 61kB 2.3MB/s eta 0:00:01\r\u001b[K     |███████████▉                    | 71kB 2.6MB/s eta 0:00:01\r\u001b[K     |█████████████▋                  | 81kB 2.7MB/s eta 0:00:01\r\u001b[K     |███████████████▎                | 92kB 2.9MB/s eta 0:00:01\r\u001b[K     |█████████████████               | 102kB 2.8MB/s eta 0:00:01\r\u001b[K     |██████████████████▋             | 112kB 2.8MB/s eta 0:00:01\r\u001b[K     |████████████████████▍           | 122kB 2.8MB/s eta 0:00:01\r\u001b[K     |██████████████████████          | 133kB 2.8MB/s eta 0:00:01\r\u001b[K     |███████████████████████▊        | 143kB 2.8MB/s eta 0:00:01\r\u001b[K     |█████████████████████████▍      | 153kB 2.8MB/s eta 0:00:01\r\u001b[K     |███████████████████████████▏    | 163kB 2.8MB/s eta 0:00:01\r\u001b[K     |████████████████████████████▉   | 174kB 2.8MB/s eta 0:00:01\r\u001b[K     |██████████████████████████████▌ | 184kB 2.8MB/s eta 0:00:01\r\u001b[K     |████████████████████████████████| 194kB 2.8MB/s \n",
            "\u001b[?25hRequirement already satisfied: torch>=1.3.0 in /usr/local/lib/python3.6/dist-packages (from stanza) (1.6.0+cu101)\n",
            "Requirement already satisfied: protobuf in /usr/local/lib/python3.6/dist-packages (from stanza) (3.12.4)\n",
            "Requirement already satisfied: requests in /usr/local/lib/python3.6/dist-packages (from stanza) (2.23.0)\n",
            "Requirement already satisfied: numpy in /usr/local/lib/python3.6/dist-packages (from stanza) (1.18.5)\n",
            "Requirement already satisfied: tqdm in /usr/local/lib/python3.6/dist-packages (from stanza) (4.41.1)\n",
            "Requirement already satisfied: future in /usr/local/lib/python3.6/dist-packages (from torch>=1.3.0->stanza) (0.16.0)\n",
            "Requirement already satisfied: setuptools in /usr/local/lib/python3.6/dist-packages (from protobuf->stanza) (49.2.0)\n",
            "Requirement already satisfied: six>=1.9 in /usr/local/lib/python3.6/dist-packages (from protobuf->stanza) (1.15.0)\n",
            "Requirement already satisfied: chardet<4,>=3.0.2 in /usr/local/lib/python3.6/dist-packages (from requests->stanza) (3.0.4)\n",
            "Requirement already satisfied: idna<3,>=2.5 in /usr/local/lib/python3.6/dist-packages (from requests->stanza) (2.10)\n",
            "Requirement already satisfied: certifi>=2017.4.17 in /usr/local/lib/python3.6/dist-packages (from requests->stanza) (2020.6.20)\n",
            "Requirement already satisfied: urllib3!=1.25.0,!=1.25.1,<1.26,>=1.21.1 in /usr/local/lib/python3.6/dist-packages (from requests->stanza) (1.24.3)\n",
            "Installing collected packages: stanza\n",
            "Successfully installed stanza-1.0.1\n"
          ],
          "name": "stdout"
        },
        {
          "output_type": "stream",
          "text": [
            "Downloading https://raw.githubusercontent.com/stanfordnlp/stanza-resources/master/resources_1.0.0.json: 120kB [00:00, 9.84MB/s]                    \n",
            "2020-08-10 07:16:31 INFO: Downloading default packages for language: ur (Urdu)...\n",
            "Downloading http://nlp.stanford.edu/software/stanza/1.0.0/ur/default.zip: 100%|██████████| 151M/151M [00:08<00:00, 17.4MB/s]\n",
            "2020-08-10 07:16:43 INFO: Finished downloading models and saved to /root/stanza_resources.\n",
            "2020-08-10 07:16:43 WARNING: Can not find mwt: default from official model list. Ignoring it.\n",
            "2020-08-10 07:16:43 INFO: Loading these models for language: ur (Urdu):\n",
            "=======================\n",
            "| Processor | Package |\n",
            "-----------------------\n",
            "| tokenize  | udtb    |\n",
            "| pos       | udtb    |\n",
            "| lemma     | udtb    |\n",
            "| depparse  | udtb    |\n",
            "=======================\n",
            "\n",
            "2020-08-10 07:16:43 INFO: Use device: cpu\n",
            "2020-08-10 07:16:43 INFO: Loading: tokenize\n",
            "2020-08-10 07:16:43 INFO: Loading: pos\n",
            "2020-08-10 07:16:44 INFO: Loading: lemma\n",
            "2020-08-10 07:16:44 INFO: Loading: depparse\n",
            "2020-08-10 07:16:45 INFO: Done loading processors!\n"
          ],
          "name": "stderr"
        }
      ]
    },
    {
      "cell_type": "code",
      "metadata": {
        "id": "czbEyfjY06L2",
        "colab_type": "code",
        "colab": {}
      },
      "source": [
        "SYNTACTIC_RELATIONS= [\"nsubj\",\n",
        "\"obj\",\n",
        "\"iobj\",\n",
        "\"csubj\",\n",
        "\"ccomp\",\n",
        "\"xcomp\",\n",
        "\"obl\",\n",
        "\"vocative\",\n",
        "\"expl\",\n",
        "\"dislocated\",\n",
        "\"advcl\",\n",
        "\"advmod\",\n",
        "\"discourse\",\n",
        "\"aux\",\n",
        "\"cop\",\n",
        "\"mark\",\n",
        "\"nmod\",\n",
        "\"appos\",\n",
        "\"nummod\",\n",
        "\"acl\",\n",
        "\"amod\",\n",
        "\"det\",\n",
        "\"clf\",\n",
        "\"case\",\n",
        "\"conj\",\n",
        "\"cc\",\n",
        "\"fixed\",\n",
        "\"flat\",\n",
        "\"compound\",\n",
        "\"list\",\n",
        "\"parataxis\",\n",
        "\"orphan\",\n",
        "\"goeswith\",\n",
        "\"reparandum\",\n",
        "\"punct\",\n",
        "\"root\",\n",
        "\"dep\"]"
      ],
      "execution_count": null,
      "outputs": []
    },
    {
      "cell_type": "code",
      "metadata": {
        "id": "I4vY_ZVU2nRe",
        "colab_type": "code",
        "colab": {}
      },
      "source": [
        "\n",
        "def get_synt_dep_graph(ur_doc):\n",
        "    list_edges = []\n",
        "    #print(*[f'id: {word.id}\\tword: {word.text}\\thead id: {word.head}\\thead: {sent.words[word.head-1].text if word.head > 0 else \"root\"}\\tdeprel: {word.deprel}' for sent in doc.sentences for word in sent.words], sep='\\n')\n",
        "    for sent in ur_doc.sentences:\n",
        "        for word in sent.words:\n",
        "            edge_from = word.text+\"-\"+str(word.id)\n",
        "            edge_to = f'{sent.words[word.head-1].text+\"-\"+str(word.head) if word.head > 0 else \"root\"}'\n",
        "            edge = (edge_from, edge_to)\n",
        "            list_edges.append(edge)\n",
        "        #print(list_edges)\n",
        "    graph = nx.Graph(list_edges)\n",
        "    #nx.draw(graph, with_labels=True, font_weight='bold')\n",
        "    return graph\n",
        "\n",
        "def get_synt_dep_relation(ur_doc, word_with_id):\n",
        "    if word_with_id!='root':\n",
        "      word_id = word_with_id.split('-')[1]\n",
        "      ur_word_in_list = [word for sent in ur_doc.sentences for word in sent.words if word.id==word_id]\n",
        "      if not ur_word_in_list:\n",
        "          return 0\n",
        "      ur_word = ur_word_in_list[0]\n",
        "    else:\n",
        "      ur_word = [word for sent in ur_doc.sentences for word in sent.words if word.head==0][0]\n",
        "    return ur_word.deprel\n",
        "\n",
        "def get_list_dep_path_relations(ur_doc, graph, source_word_with_id, target_word_with_id):\n",
        "    #print('Dep-Rel between {} and {}: '.format(source_word_with_id, target_word_with_id))\n",
        "    if source_word_with_id not in graph.nodes or target_word_with_id not in graph.nodes:\n",
        "      return []\n",
        "    shortest_path = nx.shortest_path(graph, source_word_with_id, target_word_with_id)\n",
        "    list_dep_path_relations = []\n",
        "    for word_with_id in shortest_path:\n",
        "      dep_relation = get_synt_dep_relation(ur_doc, word_with_id)\n",
        "      list_dep_path_relations.append(dep_relation)\n",
        "    #print(list_dep_path_relations)\n",
        "    return list_dep_path_relations\n",
        "\n",
        "\n",
        "def get_dep_tree_features(graph, ur_pas, ur_qst, ur_ans):\n",
        "    max_relations = 6   # 6 max relations between words\n",
        "    max_features_per_tuple = 10   # 10 max dep features per (pas, qst, ans)\n",
        "    list_features = []\n",
        "    for i in range(max_relations):\n",
        "      list_features.append([0]*max_features_per_tuple) # initialise all with 0 padding\n",
        "    index_feature = 0\n",
        "    pas_words = [word for sent in ur_pas.sentences for word in sent.words]\n",
        "    pas_words_text = [word.text for word in pas_words]\n",
        "    qst_words = [word for sent in ur_qst.sentences for word in sent.words]\n",
        "    ans_words = [word for sent in ur_ans.sentences for word in sent.words]\n",
        "    # get id of start of the answer in the passage\n",
        "    id_start_answer = 0\n",
        "    for i, pas_word in enumerate(pas_words):\n",
        "        good = False\n",
        "        if pas_word.text ==ans_words[0].text:\n",
        "          good = True\n",
        "          for j in range(len(ans_words)-1):\n",
        "              if ans_words[j+1].text!=pas_words[i+j+1].text:\n",
        "                  good=False\n",
        "                  break\n",
        "        if good:\n",
        "          id_start_answer = pas_word.id\n",
        "          break\n",
        "    start_ans_word_with_id = ans_words[0].text + \"-\" + str(id_start_answer)\n",
        "    # get dep tree features of common words in question and passage\n",
        "    for qst_word in qst_words:\n",
        "      if index_feature<5:\n",
        "        if qst_word.text in pas_words_text:\n",
        "            index = pas_words_text.index(qst_word.text)\n",
        "            pas_word_with_id = pas_words[index].text + \"-\" + str(pas_words[index].id)\n",
        "            # get dep tree feature\n",
        "            list_relations = get_list_dep_path_relations(ur_pas, graph, pas_word_with_id, start_ans_word_with_id)\n",
        "            i = 0\n",
        "            while i<10 and i<len(list_relations):\n",
        "              if list_relations[i] in SYNTACTIC_RELATIONS:\n",
        "                list_features[index_feature][i] = SYNTACTIC_RELATIONS.index(list_relations[i])+1\n",
        "              i = i+1\n",
        "            index_feature += 1\n",
        "    # Flatten the list\n",
        "    list_features = [item for sublist in list_features for item in sublist]\n",
        "    #print(list_features)\n",
        "    return list_features\n",
        "\n",
        "pas = ' اور امجد کون تھے  رشد اور امجد کون تھے'\n",
        "qst = 'رشد اور امجد کون تھے'\n",
        "ans = 'رشد اور امجد کون تھے'\n",
        "ur_pas, ur_qst, ur_ans = ur_nlp(pas), ur_nlp(qst), ur_nlp(ans)\n",
        "dep_graph = get_synt_dep_graph(ur_pas)\n",
        "dep_tree_features = get_dep_tree_features(dep_graph, ur_pas, ur_qst, ur_ans)\n",
        "\n"
      ],
      "execution_count": null,
      "outputs": []
    },
    {
      "cell_type": "code",
      "metadata": {
        "id": "CrJrxju73qG-",
        "colab_type": "code",
        "colab": {
          "base_uri": "https://localhost:8080/",
          "height": 140
        },
        "outputId": "4c84c18d-ebf4-4b1d-dcf8-1030b51faa20"
      },
      "source": [
        "labeled_data_file = \"/content/drive/My Drive/labeled_data.xlsx\"\n",
        "df = pd.read_excel(labeled_data_file, sheet_name='labeled_data',  header=0)\n",
        "df.head(3)\n"
      ],
      "execution_count": null,
      "outputs": [
        {
          "output_type": "execute_result",
          "data": {
            "text/html": [
              "<div>\n",
              "<style scoped>\n",
              "    .dataframe tbody tr th:only-of-type {\n",
              "        vertical-align: middle;\n",
              "    }\n",
              "\n",
              "    .dataframe tbody tr th {\n",
              "        vertical-align: top;\n",
              "    }\n",
              "\n",
              "    .dataframe thead th {\n",
              "        text-align: right;\n",
              "    }\n",
              "</style>\n",
              "<table border=\"1\" class=\"dataframe\">\n",
              "  <thead>\n",
              "    <tr style=\"text-align: right;\">\n",
              "      <th></th>\n",
              "      <th>paragraph</th>\n",
              "      <th>question</th>\n",
              "      <th>answer</th>\n",
              "      <th>label</th>\n",
              "    </tr>\n",
              "  </thead>\n",
              "  <tbody>\n",
              "    <tr>\n",
              "      <th>0</th>\n",
              "      <td>مارگریٹ اسٹاؤٹ اور کیری ایم اسٹیٹن نے حال ہی م...</td>\n",
              "      <td>مریم پارکر فولٹ کس لئے جانا جاتا ہے؟</td>\n",
              "      <td>تنظیمی نظریہ اور تنظیمی طرز عمل کے شعبوں میں س...</td>\n",
              "      <td>1</td>\n",
              "    </tr>\n",
              "    <tr>\n",
              "      <th>1</th>\n",
              "      <td>19 مارچ 2015 کو اعلان کیا گیا تھا کہ جزیرے کے ...</td>\n",
              "      <td>دولت مشترکہ نے نورفوک جزیرے کی حکومت کو کس جگہ...</td>\n",
              "      <td>ایک مقامی کونسل</td>\n",
              "      <td>1</td>\n",
              "    </tr>\n",
              "    <tr>\n",
              "      <th>2</th>\n",
              "      <td>اگرچہ کچھ ٹیموں نے کافی میدان اور حتی کہ مالی ...</td>\n",
              "      <td>سی بھیڑیے کس شہر میں منتقل ہوگئے؟</td>\n",
              "      <td>ٹورنٹو</td>\n",
              "      <td>1</td>\n",
              "    </tr>\n",
              "  </tbody>\n",
              "</table>\n",
              "</div>"
            ],
            "text/plain": [
              "                                           paragraph  ... label\n",
              "0  مارگریٹ اسٹاؤٹ اور کیری ایم اسٹیٹن نے حال ہی م...  ...     1\n",
              "1  19 مارچ 2015 کو اعلان کیا گیا تھا کہ جزیرے کے ...  ...     1\n",
              "2  اگرچہ کچھ ٹیموں نے کافی میدان اور حتی کہ مالی ...  ...     1\n",
              "\n",
              "[3 rows x 4 columns]"
            ]
          },
          "metadata": {
            "tags": []
          },
          "execution_count": 8
        }
      ]
    },
    {
      "cell_type": "code",
      "metadata": {
        "id": "OKumlHEiaLaJ",
        "colab_type": "code",
        "colab": {
          "base_uri": "https://localhost:8080/",
          "height": 83
        },
        "outputId": "34f56ee1-17b3-480c-bf77-e5ce0a6f025e"
      },
      "source": [
        "df['paragraph'][0]"
      ],
      "execution_count": null,
      "outputs": [
        {
          "output_type": "execute_result",
          "data": {
            "application/vnd.google.colaboratory.intrinsic+json": {
              "type": "string"
            },
            "text/plain": [
              "'مارگریٹ اسٹاؤٹ اور کیری ایم اسٹیٹن نے حال ہی میں وہائٹ \\u200b\\u200bہیڈ اور مریم پارکر فولٹ کے باہمی اثر و رسوخ پر بھی تحریر کیا ہے ، جو تنظیمی نظریہ اور تنظیمی طرز عمل کے شعبوں میں سرخیل ہیں۔\\xa0اسٹاؤٹ اور اسٹیٹن نے وہائٹ \\u200b\\u200bہیڈ اور فوللیٹ دونوں کو ایک ایسا عضو تناسل بانٹتے ہوئے دیکھا ہے جو \"ایک رشتہ دارانہ عمل کے طور پر بننا سمجھتا ہے؛ فرق جیسا کہ تعلق ہے ، ابھی بھی انوکھا ہے as اور ہم آہنگ فرق بننے کا مقصد۔\"\\xa0اس روابط کا مزید تجزیہ اسٹوٹ اور جینین ایم محبت نے انٹیگریٹیو پروسیس میں کیا: فولٹین سوچ سے متعلق'"
            ]
          },
          "metadata": {
            "tags": []
          },
          "execution_count": 9
        }
      ]
    },
    {
      "cell_type": "code",
      "metadata": {
        "id": "ApbJCQPZQdT1",
        "colab_type": "code",
        "colab": {
          "base_uri": "https://localhost:8080/",
          "height": 131,
          "referenced_widgets": [
            "3f616c0f5bda4009a80f9f0a70e5fb9c",
            "755c264122b24a9f88ae092185d3c488",
            "97862457ac9d4dd299fc88c8c4fee999",
            "f1f8d09c133542068983d89e05161df8",
            "dabae2178102404a8fed8675a3ed1e7e",
            "f1c06b07184941ebafe324a5c0674ec5",
            "71783dd17e4d48498e89d6e6eb894b29",
            "edb082480c1b4a97a743ee9b31d2754f"
          ]
        },
        "outputId": "3bc4bbb4-0d03-4375-e750-98bf7b03ba29"
      },
      "source": [
        "from tqdm import tqdm_notebook\n",
        "import pickle\n",
        "\n",
        "list_all_dep_features = []\n",
        "for i in tqdm_notebook(range(len(df['paragraph']))):\n",
        "  par, qst, ans = df['paragraph'][i], df['question'][i], df['answer'][i]\n",
        "  ur_pas, ur_qst, ur_ans = ur_nlp(par), ur_nlp(qst), ur_nlp(ans)\n",
        "  dep_graph = get_synt_dep_graph(ur_pas)\n",
        "  list_dep_features = get_dep_tree_features(dep_graph, ur_pas, ur_qst, ur_ans)\n",
        "  list_all_dep_features.append(list_dep_features)\n",
        "  if (i+1)%5000==0:\n",
        "    features_to_add = list_all_dep_features[len(list_all_dep_features)-5000:]\n",
        "    with open('/content/drive/My Drive/dep_features.pickle', 'rb') as f:\n",
        "        curr_list_features = pickle.load(f)\n",
        "    with open('/content/drive/My Drive/dep_features.pickle', 'wb') as f:\n",
        "        curr_list_features.extend(features_to_add)\n",
        "        pickle.dump(curr_list_features, f)\n",
        "    print('Saved dep features of first {} data rows'.format(i+1))\n"
      ],
      "execution_count": null,
      "outputs": [
        {
          "output_type": "stream",
          "text": [
            "/usr/local/lib/python3.6/dist-packages/ipykernel_launcher.py:5: TqdmDeprecationWarning: This function will be removed in tqdm==5.0.0\n",
            "Please use `tqdm.notebook.tqdm` instead of `tqdm.tqdm_notebook`\n",
            "  \"\"\"\n"
          ],
          "name": "stderr"
        },
        {
          "output_type": "display_data",
          "data": {
            "application/vnd.jupyter.widget-view+json": {
              "model_id": "3f616c0f5bda4009a80f9f0a70e5fb9c",
              "version_minor": 0,
              "version_major": 2
            },
            "text/plain": [
              "HBox(children=(FloatProgress(value=0.0, max=76241.0), HTML(value='')))"
            ]
          },
          "metadata": {
            "tags": []
          }
        },
        {
          "output_type": "stream",
          "text": [
            "Saved dep features of first 5000 data rows\n",
            "Saved dep features of first 10000 data rows\n"
          ],
          "name": "stdout"
        }
      ]
    },
    {
      "cell_type": "code",
      "metadata": {
        "id": "LU_YM1dLPkDi",
        "colab_type": "code",
        "colab": {
          "base_uri": "https://localhost:8080/",
          "height": 32
        },
        "outputId": "cb61ea47-8f53-45f9-f73b-32e76f37f035"
      },
      "source": [
        ""
      ],
      "execution_count": null,
      "outputs": [
        {
          "output_type": "execute_result",
          "data": {
            "text/plain": [
              "True"
            ]
          },
          "metadata": {
            "tags": []
          },
          "execution_count": 24
        }
      ]
    }
  ]
}